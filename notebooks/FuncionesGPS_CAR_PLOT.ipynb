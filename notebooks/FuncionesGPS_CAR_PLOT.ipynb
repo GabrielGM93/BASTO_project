{
 "cells": [
  {
   "cell_type": "code",
   "execution_count": 1,
   "metadata": {},
   "outputs": [],
   "source": [
    "import bson\n",
    "import pandas as pd\n",
    "import datetime\n",
    "from bson.objectid import ObjectId\n",
    "from itertools import groupby\n",
    "from operator import itemgetter\n"
   ]
  },
  {
   "cell_type": "code",
   "execution_count": 2,
   "metadata": {},
   "outputs": [],
   "source": [
    "with open('test/datarows.bson', 'rb') as f:\n",
    "    datarows = bson.decode_all(f.read())\n",
    "\n",
    "\n",
    "with open('test/devices.bson', 'rb') as f:\n",
    "    devices = bson.decode_all(f.read())\n",
    "\n",
    "import bson\n",
    "\n",
    "with open('test/animals.bson', 'rb') as f:\n",
    "    animals = bson.decode_all(f.read())"
   ]
  },
  {
   "cell_type": "code",
   "execution_count": 3,
   "metadata": {},
   "outputs": [],
   "source": [
    "# Crear un diccionario donde la clave es el \"deviceMACAddress\" y el valor es el diccionario completo del dispositivo correspondiente\n",
    "device_dict = {}\n",
    "for device in devices:\n",
    "    device_dict[device[\"deviceMACAddress\"]] = device\n",
    "\n",
    "# Crear una nueva lista de datos fusionando los datos de datarows y devices\n",
    "merged_data = []\n",
    "for row in datarows:\n",
    "    if row[\"UUID\"] in device_dict:\n",
    "        device_data = device_dict[row[\"UUID\"]]\n",
    "        merged_row = {**row, **device_data} # Fusionar los dos diccionarios en uno solo\n",
    "        merged_data.append(merged_row)"
   ]
  },
  {
   "cell_type": "code",
   "execution_count": 4,
   "metadata": {},
   "outputs": [],
   "source": [
    "#MERGE CON ANIMALS\n",
    "\n",
    "for row in merged_data:\n",
    "    animal_id = row.get('deviceAnimalID')\n",
    "    animal = next((a for a in animals if a.get('_id') == animal_id), None)\n",
    "    if animal:\n",
    "        row['animal'] = animal\n",
    "    else:\n",
    "        row['animal'] = None"
   ]
  },
  {
   "cell_type": "code",
   "execution_count": 5,
   "metadata": {},
   "outputs": [],
   "source": [
    "#TO DATE TIME\n",
    "\n",
    "for d in merged_data:\n",
    "    timestamp_str = d['dataRowData']['timestamp']\n",
    "    try:\n",
    "        timestamp_obj = pd.to_datetime(timestamp_str)\n",
    "    except ValueError:\n",
    "        try:\n",
    "            timestamp_obj = pd.to_datetime(timestamp_str, format='%Y-%d-%mT%H:%M:%S')\n",
    "        except ValueError:\n",
    "            timestamp_obj = timestamp_obj\n",
    "    d['dataRowData']['timestamp'] = timestamp_obj"
   ]
  },
  {
   "cell_type": "code",
   "execution_count": 6,
   "metadata": {},
   "outputs": [],
   "source": [
    "def gps(desired_id: str, date_str: str):\n",
    "    # Convertir la fecha en un objeto datetime.date\n",
    "    date_obj = datetime.datetime.strptime(date_str, \"%Y, %m, %d\").date()\n",
    "    \n",
    "    # Convertir el string de desired_id en un objeto ObjectId\n",
    "    desired_id_obj = ObjectId(desired_id)\n",
    "    \n",
    "    #FILTRO POR ID CAMPO y DATAROWTYPE = GPS\n",
    "    gps_data = [element for element in merged_data if element.get(\"dataRowType\") == \"GPS\" and desired_id_obj in element[\"animal\"][\"animalSettlement\"]]\n",
    "    #FILTRO POR DIA\n",
    "    filtered_data = [d for d in gps_data if d[\"dataRowData\"][\"timestamp\"] == date_obj]\n",
    "\n",
    "\n",
    "    # Contar UUIDs/COLLARES únicos ese día\n",
    "    unique_uuids = set(d['UUID'] for d in filtered_data)\n",
    "    \n",
    "\n",
    "    # CREO DICCIONARIO KEYS= COLLAR, INFO LAT LONG DATE\n",
    "    gps_data_by_uuid = {}\n",
    "    for uuid in unique_uuids:\n",
    "        filtered_gps_data_animal = [d for d in filtered_data if d['UUID'] == uuid]\n",
    "        gps_data_dict = {'timestamp': [], 'latitud': [], 'longitud': []}\n",
    "        for d in filtered_gps_data_animal:\n",
    "            gps_data_dict['timestamp'].append(d['dataRowData']['timestamp'])\n",
    "            gps_data_dict['latitud'].append(d['dataRowData']['lat'])\n",
    "            gps_data_dict['longitud'].append(d['dataRowData']['lng'])\n",
    "        gps_data_by_uuid[uuid] = gps_data_dict\n",
    " \n",
    "\n",
    "    \n",
    "    return (gps_data_by_uuid)\n",
    "\n",
    "\n",
    "#TRAE CANTIDAD DE COLLARES, DENTRO DATE Y LOC, PARAMETRO STR ID CAMPO FECHA, STR = EJ \"2022, 9, 21\"\n"
   ]
  },
  {
   "cell_type": "code",
   "execution_count": 7,
   "metadata": {},
   "outputs": [
    {
     "name": "stderr",
     "output_type": "stream",
     "text": [
      "C:\\Users\\Gabriel\\AppData\\Local\\Temp\\ipykernel_8088\\2991580004.py:11: FutureWarning: Comparison of Timestamp with datetime.date is deprecated in order to match the standard library behavior. In a future version these will be considered non-comparable. Use 'ts == pd.Timestamp(date)' or 'ts.date() == date' instead.\n",
      "  filtered_data = [d for d in gps_data if d[\"dataRowData\"][\"timestamp\"] == date_obj]\n"
     ]
    }
   ],
   "source": [
    "collardicc = gps(\"620e6e5e60543d0026a01f0e\",\"2022, 9, 21\")"
   ]
  },
  {
   "cell_type": "code",
   "execution_count": 8,
   "metadata": {},
   "outputs": [
    {
     "data": {
      "text/plain": [
       "dict_keys(['0004A30B00F82E9C', '0004A30B00F88969', '0004A30B00EE959D', '0004A30B00F825B7', '0004A30B00F82BD2'])"
      ]
     },
     "execution_count": 8,
     "metadata": {},
     "output_type": "execute_result"
    }
   ],
   "source": [
    "collardicc.keys()"
   ]
  },
  {
   "cell_type": "code",
   "execution_count": 24,
   "metadata": {},
   "outputs": [
    {
     "data": {
      "text/plain": [
       "dict"
      ]
     },
     "execution_count": 24,
     "metadata": {},
     "output_type": "execute_result"
    }
   ],
   "source": [
    "type(collardicc[\"0004A30B00F825B7\"])"
   ]
  },
  {
   "cell_type": "code",
   "execution_count": 25,
   "metadata": {},
   "outputs": [
    {
     "name": "stdout",
     "output_type": "stream",
     "text": [
      "2022-09-21 00:53:02\n",
      "-32.85475433333333\n",
      "-63.6427645\n"
     ]
    }
   ],
   "source": [
    "print(collardicc[\"0004A30B00F825B7\"][\"timestamp\"][0])\n",
    "\n",
    "print(collardicc[\"0004A30B00F825B7\"][\"latitud\"][0])\n",
    "\n",
    "print(collardicc[\"0004A30B00F825B7\"][\"longitud\"][0])"
   ]
  },
  {
   "cell_type": "code",
   "execution_count": 11,
   "metadata": {},
   "outputs": [],
   "source": [
    "def caravanas(desired_id: str, date_str: str):\n",
    "    # Convertir la fecha en un objeto datetime.date\n",
    "    date_obj = datetime.datetime.strptime(date_str, \"%Y, %m, %d\").date()\n",
    "\n",
    "    # Convertir el string de desired_id en un objeto ObjectId\n",
    "    desired_id_obj = ObjectId(desired_id)\n",
    "\n",
    "    # Filtrar por ID CAMPO y DATAROWTYPE = CARAVANA\n",
    "    beacon_data = [element for element in merged_data if element.get(\"dataRowType\") == \"BEACON\" and desired_id_obj in element[\"animal\"][\"animalSettlement\"]]\n",
    "\n",
    "    # Filtrar por día\n",
    "    filtered_dataB = [d for d in beacon_data if d[\"dataRowData\"][\"timestamp\"].date() == date_obj]\n",
    "\n",
    "    \n",
    "    # Contar UUIDs/COLLARES únicos ese día\n",
    "    unique_uuids = set(d['UUID'] for d in filtered_dataB)\n",
    "\n",
    "    collar_data = {}\n",
    "    collar_list = set(d['UUID'] for d in filtered_dataB)\n",
    "\n",
    "    for collar in collar_list:\n",
    "        #FILTRO POR COLLAR\n",
    "        beacon_data1 = [element for element in filtered_dataB if element.get(\"UUID\") == collar]\n",
    "        \n",
    "        data_list = []\n",
    "        \n",
    "        for d in beacon_data1:\n",
    "            date = d['dataRowData']['timestamp']\n",
    "            mac = d['dataRowData']['mac']\n",
    "            data_list.append({'date': date, 'mac': mac})\n",
    "        \n",
    "        \n",
    "        # Ordenar la lista por fecha\n",
    "        data_list_sorted = sorted(data_list, key=itemgetter('date'))\n",
    "        \n",
    "        # Agrupar por hora\n",
    "        grouped_data = []\n",
    "        for hour, group in groupby(data_list_sorted, lambda x: x['date'].strftime('%Y-%m-%d %H')):\n",
    "            macs = set()\n",
    "            for item in group:\n",
    "                macs.add(item['mac'])\n",
    "            grouped_data.append({'hour': hour, 'macs': macs})\n",
    "        \n",
    "        collar_data[collar] = grouped_data\n",
    "\n",
    "    return collar_data\n",
    "\n",
    "\n",
    "#TRAE CARAVANAS EN BASE A COLLARES POR ID CAMPO Y FECHA"
   ]
  },
  {
   "cell_type": "code",
   "execution_count": 12,
   "metadata": {},
   "outputs": [],
   "source": [
    "collardicc1 = caravanas(\"620e6e5e60543d0026a01f0e\",\"2022, 9, 21\")"
   ]
  },
  {
   "cell_type": "code",
   "execution_count": 13,
   "metadata": {},
   "outputs": [
    {
     "data": {
      "text/plain": [
       "dict_keys(['0004A30B00F82E9C', '0004A30B00EE959D', '0004A30B00F825B7', '0004A30B00F82BD2'])"
      ]
     },
     "execution_count": 13,
     "metadata": {},
     "output_type": "execute_result"
    }
   ],
   "source": [
    "collardicc1.keys()"
   ]
  },
  {
   "cell_type": "code",
   "execution_count": 14,
   "metadata": {},
   "outputs": [
    {
     "data": {
      "text/plain": [
       "[{'hour': '2022-09-21 12', 'macs': {'A7AA2D0FF0F3'}},\n",
       " {'hour': '2022-09-21 18', 'macs': {'7F93E1ED74CA'}},\n",
       " {'hour': '2022-09-21 20', 'macs': {'86395D2360F6'}}]"
      ]
     },
     "execution_count": 14,
     "metadata": {},
     "output_type": "execute_result"
    }
   ],
   "source": [
    "collardicc1[\"0004A30B00F825B7\"]"
   ]
  },
  {
   "cell_type": "code",
   "execution_count": 15,
   "metadata": {},
   "outputs": [
    {
     "data": {
      "text/plain": [
       "{'hour': '2022-09-21 18', 'macs': {'7F93E1ED74CA'}}"
      ]
     },
     "execution_count": 15,
     "metadata": {},
     "output_type": "execute_result"
    }
   ],
   "source": [
    "collardicc1[\"0004A30B00F825B7\"][1]"
   ]
  },
  {
   "cell_type": "code",
   "execution_count": 16,
   "metadata": {},
   "outputs": [
    {
     "data": {
      "text/plain": [
       "{'1D96FE9FFEF4', '3B415B321DDA', 'F356641DB6D3'}"
      ]
     },
     "execution_count": 16,
     "metadata": {},
     "output_type": "execute_result"
    }
   ],
   "source": [
    "collardicc1[\"0004A30B00F82E9C\"][0][\"macs\"]"
   ]
  },
  {
   "cell_type": "code",
   "execution_count": null,
   "metadata": {},
   "outputs": [],
   "source": []
  },
  {
   "cell_type": "code",
   "execution_count": null,
   "metadata": {},
   "outputs": [],
   "source": []
  },
  {
   "cell_type": "code",
   "execution_count": 17,
   "metadata": {},
   "outputs": [],
   "source": [
    "import bson\n",
    "from bson import ObjectId"
   ]
  },
  {
   "cell_type": "code",
   "execution_count": 18,
   "metadata": {},
   "outputs": [],
   "source": [
    "\n",
    "with open('test/settlements.bson', 'rb') as f:\n",
    "    settlements = bson.decode_all(f.read())\n",
    "\n",
    "with open('test/plots.bson', 'rb') as f:\n",
    "    plots = bson.decode_all(f.read())"
   ]
  },
  {
   "cell_type": "code",
   "execution_count": 19,
   "metadata": {},
   "outputs": [],
   "source": [
    "\n",
    "\n",
    "def obtener_geopointsp(desired_id: str):\n",
    "    \n",
    "    # Convertir el string de desired_id en un objeto ObjectId\n",
    "    desired_id_obj = ObjectId(desired_id)\n",
    "    \n",
    "    # Obtener lista de IDs de parcelas\n",
    "    lista_plots = []\n",
    "    for a in settlements:\n",
    "        if a[\"_id\"] == desired_id_obj:\n",
    "            lista_plots.extend(a[\"plots\"])\n",
    "            \n",
    "    # Crear lista para guardar los resultados\n",
    "    lista_resultados = []\n",
    "    \n",
    "    # Recorrer lista de IDs de parcelas y buscar cada una en la colección de parcelas\n",
    "    for id_parcela in lista_plots:  # La lista de IDs está dentro de otra lista\n",
    "        for plot in plots:\n",
    "            if plot[\"_id\"] == id_parcela:\n",
    "                # Obtener geopoints de la parcela y agregarlos a la lista de resultados\n",
    "                geopoints = plot[\"geoPoints\"]\n",
    "                lista_resultados.append({\"_id\": plot[\"_id\"], \"geopoints\": geopoints})\n",
    "    \n",
    "    # Devolver lista de resultados\n",
    "    return lista_resultados\n",
    "\n",
    "\n",
    "\n",
    "#TRAE EN BASE A ID CAMPO, LA CANTIDAD DE LOTES QUE LO CONFORMAN, Y SUS GEOPOINTS"
   ]
  },
  {
   "cell_type": "code",
   "execution_count": 20,
   "metadata": {},
   "outputs": [],
   "source": [
    "geopoints = obtener_geopointsp(\"620e6e5e60543d0026a01f0e\")"
   ]
  },
  {
   "cell_type": "code",
   "execution_count": 29,
   "metadata": {},
   "outputs": [
    {
     "data": {
      "text/plain": [
       "ObjectId('63b55f4b973f9f35c0c5b37d')"
      ]
     },
     "execution_count": 29,
     "metadata": {},
     "output_type": "execute_result"
    }
   ],
   "source": [
    "geopoints[0][\"_id\"]"
   ]
  },
  {
   "cell_type": "code",
   "execution_count": 41,
   "metadata": {},
   "outputs": [
    {
     "data": {
      "text/plain": [
       "-63.64061"
      ]
     },
     "execution_count": 41,
     "metadata": {},
     "output_type": "execute_result"
    }
   ],
   "source": [
    "geopoints[1][\"geopoints\"][0][\"lng\"]"
   ]
  },
  {
   "cell_type": "code",
   "execution_count": 49,
   "metadata": {},
   "outputs": [
    {
     "data": {
      "text/plain": [
       "{'_id': ObjectId('63e4f73507c91900306018e6'),\n",
       " 'geopoints': [{'_id': ObjectId('63e4f73507c91900306018e7'),\n",
       "   'lat': -32.848689076537156,\n",
       "   'lng': -63.63217129296387},\n",
       "  {'_id': ObjectId('63e4f73507c91900306018e8'),\n",
       "   'lat': -32.85470979619781,\n",
       "   'lng': -63.633501668635255},\n",
       "  {'_id': ObjectId('63e4f73507c91900306018e9'),\n",
       "   'lat': -32.85470979619781,\n",
       "   'lng': -63.629253049555665},\n",
       "  {'_id': ObjectId('63e4f73507c91900306018ea'),\n",
       "   'lat': -32.85225829498449,\n",
       "   'lng': -63.62732185906494},\n",
       "  {'_id': ObjectId('63e4f73507c91900306018eb'),\n",
       "   'lat': -32.84915776997614,\n",
       "   'lng': -63.62710728234375}]}"
      ]
     },
     "execution_count": 49,
     "metadata": {},
     "output_type": "execute_result"
    }
   ],
   "source": [
    "geopoints[3]  #CADA ELEMENTO ES UN PLOT"
   ]
  },
  {
   "cell_type": "code",
   "execution_count": null,
   "metadata": {},
   "outputs": [],
   "source": []
  },
  {
   "cell_type": "code",
   "execution_count": 22,
   "metadata": {},
   "outputs": [],
   "source": [
    "from pymongo import MongoClient\n",
    "\n",
    "def obtener_geopoints(object_ids):\n",
    "    client = MongoClient()\n",
    "    db = client['nombre_de_tu_base_de_datos']\n",
    "    collection = db['nombre_de_tu_colección']\n",
    "    \n",
    "    result = []\n",
    "    for object_id in object_ids:\n",
    "        query = {\"_id\": object_id}\n",
    "        projection = {\"_id\": 1, \"virtualFenceGeoPoints\": 1}\n",
    "        doc = collection.find_one(query, projection)\n",
    "        if doc is not None:\n",
    "            geopoints = doc.get(\"virtualFenceGeoPoints\")\n",
    "            if geopoints is not None:\n",
    "                result.append({\"_id\": str(object_id), \"geopoint\": geopoints})\n",
    "    \n",
    "    return result\n"
   ]
  }
 ],
 "metadata": {
  "kernelspec": {
   "display_name": "Python 3",
   "language": "python",
   "name": "python3"
  },
  "language_info": {
   "codemirror_mode": {
    "name": "ipython",
    "version": 3
   },
   "file_extension": ".py",
   "mimetype": "text/x-python",
   "name": "python",
   "nbconvert_exporter": "python",
   "pygments_lexer": "ipython3",
   "version": "3.11.0"
  },
  "orig_nbformat": 4
 },
 "nbformat": 4,
 "nbformat_minor": 2
}
